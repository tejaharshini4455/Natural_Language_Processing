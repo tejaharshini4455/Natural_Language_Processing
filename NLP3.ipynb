{
 "cells": [
  {
   "cell_type": "code",
   "execution_count": 1,
   "metadata": {
    "id": "WrjJmB-Imy5Q"
   },
   "outputs": [],
   "source": [
    "puntuation='''!-()[]{};:$'\"\"\\,<>./?@#%^*_~'''\n",
    "str1=\"HEllo !!?, He said and ----------- went.?@ bye $ he % told. \""
   ]
  },
  {
   "cell_type": "code",
   "execution_count": null,
   "metadata": {
    "id": "nl7rdE92wuQg"
   },
   "outputs": [],
   "source": []
  },
  {
   "cell_type": "code",
   "execution_count": 2,
   "metadata": {
    "id": "K8aX7NqenV7W"
   },
   "outputs": [],
   "source": [
    "str2=\"\"\n",
    "for char in str1:\n",
    "  if(char not in puntuation):\n",
    "    str2 = str2+char"
   ]
  },
  {
   "cell_type": "code",
   "execution_count": 3,
   "metadata": {
    "colab": {
     "base_uri": "https://localhost:8080/",
     "height": 36
    },
    "id": "sDWU5WbgnmMv",
    "outputId": "29394072-5e96-4cdb-9a1b-8bcdc5bdf541"
   },
   "outputs": [
    {
     "data": {
      "text/plain": [
       "'HEllo  He said and  went bye  he  told '"
      ]
     },
     "execution_count": 3,
     "metadata": {},
     "output_type": "execute_result"
    }
   ],
   "source": [
    "str2"
   ]
  },
  {
   "cell_type": "code",
   "execution_count": 4,
   "metadata": {
    "id": "d2sD-0FJnnIN"
   },
   "outputs": [],
   "source": [
    "import re\n",
    "str1=\"HEllo !!?, He said and Ladies----------- went.?@ bye $ he % told. \"\n",
    "str3=re.sub(r'[^\\w\\s]','',str1)"
   ]
  },
  {
   "cell_type": "code",
   "execution_count": 5,
   "metadata": {
    "colab": {
     "base_uri": "https://localhost:8080/",
     "height": 36
    },
    "id": "7ExHULxEo4aZ",
    "outputId": "11f21860-045e-4bcb-a722-40112ce8d0c5"
   },
   "outputs": [
    {
     "data": {
      "text/plain": [
       "'HEllo  He said and Ladies went bye  he  told '"
      ]
     },
     "execution_count": 5,
     "metadata": {},
     "output_type": "execute_result"
    }
   ],
   "source": [
    "str3"
   ]
  },
  {
   "cell_type": "markdown",
   "metadata": {
    "id": "2sXwiPyYpOxX"
   },
   "source": [
    "Tokenization"
   ]
  },
  {
   "cell_type": "code",
   "execution_count": 6,
   "metadata": {
    "colab": {
     "base_uri": "https://localhost:8080/"
    },
    "id": "XBTfgaNSo9OM",
    "outputId": "71a08357-378d-418b-d2c9-c155d78f5b4f"
   },
   "outputs": [
    {
     "name": "stderr",
     "output_type": "stream",
     "text": [
      "[nltk_data] Downloading package punkt to C:\\Users\\TEJA\n",
      "[nltk_data]     HARSHNI\\AppData\\Roaming\\nltk_data...\n",
      "[nltk_data]   Unzipping tokenizers\\punkt.zip.\n"
     ]
    },
    {
     "data": {
      "text/plain": [
       "True"
      ]
     },
     "execution_count": 6,
     "metadata": {},
     "output_type": "execute_result"
    }
   ],
   "source": [
    "import nltk\n",
    "nltk.download('punkt')"
   ]
  },
  {
   "cell_type": "code",
   "execution_count": 7,
   "metadata": {
    "colab": {
     "base_uri": "https://localhost:8080/"
    },
    "id": "ZMMeWGVQpSc-",
    "outputId": "d66bd937-b4d5-45b2-99cd-b07e5de3e652"
   },
   "outputs": [
    {
     "data": {
      "text/plain": [
       "['HEllo', 'He', 'said', 'and', 'Ladies', 'went', 'bye', 'he', 'told']"
      ]
     },
     "execution_count": 7,
     "metadata": {},
     "output_type": "execute_result"
    }
   ],
   "source": [
    "nltk.word_tokenize(str3)"
   ]
  },
  {
   "cell_type": "markdown",
   "metadata": {
    "id": "nMe869hVp1Ec"
   },
   "source": [
    "Stopwords removal"
   ]
  },
  {
   "cell_type": "code",
   "execution_count": 8,
   "metadata": {
    "colab": {
     "base_uri": "https://localhost:8080/"
    },
    "id": "xrfgdO-gpvW7",
    "outputId": "3b168299-68e9-4fa7-ace3-259aed7a8338"
   },
   "outputs": [
    {
     "name": "stderr",
     "output_type": "stream",
     "text": [
      "[nltk_data] Downloading package stopwords to C:\\Users\\TEJA\n",
      "[nltk_data]     HARSHNI\\AppData\\Roaming\\nltk_data...\n",
      "[nltk_data]   Unzipping corpora\\stopwords.zip.\n"
     ]
    },
    {
     "name": "stdout",
     "output_type": "stream",
     "text": [
      "['i', 'me', 'my', 'myself', 'we', 'our', 'ours', 'ourselves', 'you', \"you're\", \"you've\", \"you'll\", \"you'd\", 'your', 'yours', 'yourself', 'yourselves', 'he', 'him', 'his', 'himself', 'she', \"she's\", 'her', 'hers', 'herself', 'it', \"it's\", 'its', 'itself', 'they', 'them', 'their', 'theirs', 'themselves', 'what', 'which', 'who', 'whom', 'this', 'that', \"that'll\", 'these', 'those', 'am', 'is', 'are', 'was', 'were', 'be', 'been', 'being', 'have', 'has', 'had', 'having', 'do', 'does', 'did', 'doing', 'a', 'an', 'the', 'and', 'but', 'if', 'or', 'because', 'as', 'until', 'while', 'of', 'at', 'by', 'for', 'with', 'about', 'against', 'between', 'into', 'through', 'during', 'before', 'after', 'above', 'below', 'to', 'from', 'up', 'down', 'in', 'out', 'on', 'off', 'over', 'under', 'again', 'further', 'then', 'once', 'here', 'there', 'when', 'where', 'why', 'how', 'all', 'any', 'both', 'each', 'few', 'more', 'most', 'other', 'some', 'such', 'no', 'nor', 'not', 'only', 'own', 'same', 'so', 'than', 'too', 'very', 's', 't', 'can', 'will', 'just', 'don', \"don't\", 'should', \"should've\", 'now', 'd', 'll', 'm', 'o', 're', 've', 'y', 'ain', 'aren', \"aren't\", 'couldn', \"couldn't\", 'didn', \"didn't\", 'doesn', \"doesn't\", 'hadn', \"hadn't\", 'hasn', \"hasn't\", 'haven', \"haven't\", 'isn', \"isn't\", 'ma', 'mightn', \"mightn't\", 'mustn', \"mustn't\", 'needn', \"needn't\", 'shan', \"shan't\", 'shouldn', \"shouldn't\", 'wasn', \"wasn't\", 'weren', \"weren't\", 'won', \"won't\", 'wouldn', \"wouldn't\"]\n"
     ]
    }
   ],
   "source": [
    "nltk.download('stopwords')\n",
    "from nltk.corpus import stopwords\n",
    "stop_words=stopwords.words('english')\n",
    "print(stop_words)"
   ]
  },
  {
   "cell_type": "code",
   "execution_count": 9,
   "metadata": {
    "colab": {
     "base_uri": "https://localhost:8080/"
    },
    "id": "0saZ_dHi8baE",
    "outputId": "f9cab4f3-0e4e-454b-9cdd-396f6bcb7b49"
   },
   "outputs": [
    {
     "name": "stdout",
     "output_type": "stream",
     "text": [
      "['i', 'me', 'my', 'myself', 'we', 'our', 'ours', 'ourselves', 'you', \"you're\", \"you've\", \"you'll\", \"you'd\", 'your', 'yours', 'yourself', 'yourselves', 'he', 'him', 'his', 'himself', 'she', \"she's\", 'her', 'hers', 'herself', 'it', \"it's\", 'its', 'itself', 'they', 'them', 'their', 'theirs', 'themselves', 'what', 'which', 'who', 'whom', 'this', 'that', \"that'll\", 'these', 'those', 'am', 'is', 'are', 'was', 'were', 'be', 'been', 'being', 'have', 'has', 'had', 'having', 'do', 'does', 'did', 'doing', 'a', 'an', 'the', 'and', 'but', 'if', 'or', 'because', 'as', 'until', 'while', 'of', 'at', 'by', 'for', 'with', 'about', 'against', 'between', 'into', 'through', 'during', 'before', 'after', 'above', 'below', 'to', 'from', 'up', 'down', 'in', 'out', 'on', 'off', 'over', 'under', 'again', 'further', 'then', 'once', 'here', 'there', 'when', 'where', 'why', 'how', 'all', 'any', 'both', 'each', 'few', 'more', 'most', 'other', 'some', 'such', 'no', 'nor', 'not', 'only', 'own', 'same', 'so', 'than', 'too', 'very', 's', 't', 'can', 'will', 'just', 'don', \"don't\", 'should', \"should've\", 'now', 'd', 'll', 'm', 'o', 're', 've', 'y', 'ain', 'aren', \"aren't\", 'couldn', \"couldn't\", 'didn', \"didn't\", 'doesn', \"doesn't\", 'hadn', \"hadn't\", 'hasn', \"hasn't\", 'haven', \"haven't\", 'isn', \"isn't\", 'ma', 'mightn', \"mightn't\", 'mustn', \"mustn't\", 'needn', \"needn't\", 'shan', \"shan't\", 'shouldn', \"shouldn't\", 'wasn', \"wasn't\", 'weren', \"weren't\", 'won', \"won't\", 'wouldn', \"wouldn't\", 'HAI']\n"
     ]
    }
   ],
   "source": [
    "stop_words.append('HAI')\n",
    "print(stop_words)"
   ]
  },
  {
   "cell_type": "markdown",
   "metadata": {
    "id": "9aLtWPEnrX3v"
   },
   "source": [
    "Stemming"
   ]
  },
  {
   "cell_type": "code",
   "execution_count": 10,
   "metadata": {
    "colab": {
     "base_uri": "https://localhost:8080/"
    },
    "id": "h7Bf_KJ_qDUP",
    "outputId": "1fdfa8d1-e600-497c-9d69-8814f0fa539d"
   },
   "outputs": [
    {
     "name": "stdout",
     "output_type": "stream",
     "text": [
      "hello\n",
      "He\n",
      "said\n",
      "and\n",
      "ladi\n",
      "went\n",
      "bye\n",
      "he\n",
      "told\n"
     ]
    }
   ],
   "source": [
    "from nltk.stem import PorterStemmer\n",
    "stemmer=PorterStemmer()\n",
    "str4=nltk.word_tokenize(str3)\n",
    "for word in str4:\n",
    "  print(stemmer.stem(word))"
   ]
  },
  {
   "cell_type": "markdown",
   "metadata": {
    "id": "J_wPOqnOra35"
   },
   "source": [
    "Lemmatization"
   ]
  },
  {
   "cell_type": "code",
   "execution_count": 11,
   "metadata": {
    "colab": {
     "base_uri": "https://localhost:8080/"
    },
    "id": "he-0cpusrIhZ",
    "outputId": "79664600-446c-4ced-dbd9-6f17051f1a88"
   },
   "outputs": [
    {
     "name": "stderr",
     "output_type": "stream",
     "text": [
      "[nltk_data] Downloading package wordnet to C:\\Users\\TEJA\n",
      "[nltk_data]     HARSHNI\\AppData\\Roaming\\nltk_data...\n",
      "[nltk_data] Downloading package omw-1.4 to C:\\Users\\TEJA\n",
      "[nltk_data]     HARSHNI\\AppData\\Roaming\\nltk_data...\n"
     ]
    },
    {
     "name": "stdout",
     "output_type": "stream",
     "text": [
      "HEllo\n",
      "He\n",
      "said\n",
      "and\n",
      "Ladies\n",
      "went\n",
      "bye\n",
      "he\n",
      "told\n"
     ]
    }
   ],
   "source": [
    "nltk.download('wordnet')\n",
    "nltk.download('omw-1.4')\n",
    "from nltk.stem import WordNetLemmatizer\n",
    "lemmatizer=WordNetLemmatizer()\n",
    "str5=nltk.word_tokenize(str3)\n",
    "for word in str5:\n",
    "  print(lemmatizer.lemmatize(word))"
   ]
  },
  {
   "cell_type": "markdown",
   "metadata": {
    "id": "ylyC0O8XtVk4"
   },
   "source": [
    "Bag of Words"
   ]
  },
  {
   "cell_type": "code",
   "execution_count": 12,
   "metadata": {
    "id": "FhH6ZJK_tX9l"
   },
   "outputs": [],
   "source": [
    "S1=['The sun is shining', 'The rain is pouring', 'The Moon is raising',' The stars are blinking']"
   ]
  },
  {
   "cell_type": "code",
   "execution_count": 13,
   "metadata": {
    "colab": {
     "base_uri": "https://localhost:8080/"
    },
    "id": "sustZgBzt67U",
    "outputId": "16036bdc-48a2-4605-d915-016f07a03738"
   },
   "outputs": [
    {
     "name": "stdout",
     "output_type": "stream",
     "text": [
      "['are', 'blinking', 'is', 'moon', 'pouring', 'rain', 'raising', 'shining', 'stars', 'sun', 'the']\n"
     ]
    },
    {
     "name": "stderr",
     "output_type": "stream",
     "text": [
      "C:\\Users\\TEJA HARSHNI\\anaconda3\\lib\\site-packages\\sklearn\\utils\\deprecation.py:87: FutureWarning: Function get_feature_names is deprecated; get_feature_names is deprecated in 1.0 and will be removed in 1.2. Please use get_feature_names_out instead.\n",
      "  warnings.warn(msg, category=FutureWarning)\n"
     ]
    }
   ],
   "source": [
    "from sklearn.feature_extraction.text import CountVectorizer\n",
    "count_vec = CountVectorizer()\n",
    "#count_occurs=count_vec([S1])\n",
    "x= count_vec.fit_transform(S1)\n",
    "print(count_vec.get_feature_names())"
   ]
  },
  {
   "cell_type": "code",
   "execution_count": 14,
   "metadata": {
    "colab": {
     "base_uri": "https://localhost:8080/"
    },
    "id": "7FCAE8WouzrJ",
    "outputId": "7d2b8a93-e19e-4862-af8a-907b0e06cf41"
   },
   "outputs": [
    {
     "name": "stdout",
     "output_type": "stream",
     "text": [
      "[[0 0 1 0 0 0 0 1 0 1 1]\n",
      " [0 0 1 0 1 1 0 0 0 0 1]\n",
      " [0 0 1 1 0 0 1 0 0 0 1]\n",
      " [1 1 0 0 0 0 0 0 1 0 1]]\n"
     ]
    }
   ],
   "source": [
    "print(x.toarray())"
   ]
  },
  {
   "cell_type": "code",
   "execution_count": 15,
   "metadata": {
    "colab": {
     "base_uri": "https://localhost:8080/"
    },
    "id": "GMdPKlXewC1m",
    "outputId": "3f90e20b-057e-4c06-c6c0-80516d349f53"
   },
   "outputs": [
    {
     "name": "stdout",
     "output_type": "stream",
     "text": [
      "['are', 'are blinking', 'blinking', 'is', 'is pouring', 'is raising', 'is shining', 'moon', 'moon is', 'moon is raising', 'pouring', 'rain', 'rain is', 'rain is pouring', 'raising', 'shining', 'stars', 'stars are', 'stars are blinking', 'sun', 'sun is', 'sun is shining', 'the', 'the moon', 'the moon is', 'the moon is raising', 'the rain', 'the rain is', 'the rain is pouring', 'the stars', 'the stars are', 'the stars are blinking', 'the sun', 'the sun is', 'the sun is shining']\n",
      "[[0 0 0 1 0 0 1 0 0 0 0 0 0 0 0 1 0 0 0 1 1 1 1 0 0 0 0 0 0 0 0 0 1 1 1]\n",
      " [0 0 0 1 1 0 0 0 0 0 1 1 1 1 0 0 0 0 0 0 0 0 1 0 0 0 1 1 1 0 0 0 0 0 0]\n",
      " [0 0 0 1 0 1 0 1 1 1 0 0 0 0 1 0 0 0 0 0 0 0 1 1 1 1 0 0 0 0 0 0 0 0 0]\n",
      " [1 1 1 0 0 0 0 0 0 0 0 0 0 0 0 0 1 1 1 0 0 0 1 0 0 0 0 0 0 1 1 1 0 0 0]]\n"
     ]
    }
   ],
   "source": [
    "vectorizer2=CountVectorizer(analyzer='word',ngram_range=(1,4))\n",
    "y=vectorizer2.fit_transform(S1)\n",
    "print(vectorizer2.get_feature_names())\n",
    "print(y.toarray())"
   ]
  },
  {
   "cell_type": "markdown",
   "metadata": {
    "id": "AWRNFfq-yDGs"
   },
   "source": [
    "TFIDF"
   ]
  },
  {
   "cell_type": "code",
   "execution_count": 16,
   "metadata": {
    "colab": {
     "base_uri": "https://localhost:8080/"
    },
    "id": "ekR1WwjIwleq",
    "outputId": "3cbd2280-444e-407a-f179-ead21c04000f"
   },
   "outputs": [
    {
     "name": "stdout",
     "output_type": "stream",
     "text": [
      "['The', 'rain', 'is', 'pouring']\n",
      "['The', 'star', 'is', 'blinking', 'and', 'the', 'ice', 'is', 'falling']\n"
     ]
    }
   ],
   "source": [
    "S1='The rain is pouring'\n",
    "S2='The star is blinking and the ice is falling'\n",
    "bow1=S1.split()\n",
    "bow2=S2.split()\n",
    "print(bow1)\n",
    "print(bow2)"
   ]
  },
  {
   "cell_type": "code",
   "execution_count": 17,
   "metadata": {
    "colab": {
     "base_uri": "https://localhost:8080/"
    },
    "id": "1VfEDyNJyW9f",
    "outputId": "085dff85-158e-48f2-eee9-7e4e04e9018b"
   },
   "outputs": [
    {
     "data": {
      "text/plain": [
       "{'The',\n",
       " 'and',\n",
       " 'blinking',\n",
       " 'falling',\n",
       " 'ice',\n",
       " 'is',\n",
       " 'pouring',\n",
       " 'rain',\n",
       " 'star',\n",
       " 'the'}"
      ]
     },
     "execution_count": 17,
     "metadata": {},
     "output_type": "execute_result"
    }
   ],
   "source": [
    "uniquewords=set(bow1).union(set(bow2))\n",
    "uniquewords"
   ]
  },
  {
   "cell_type": "code",
   "execution_count": 18,
   "metadata": {
    "id": "u0O1HGkEypmZ"
   },
   "outputs": [],
   "source": [
    "now1=dict.fromkeys(uniquewords,0)\n",
    "for word in bow1:\n",
    "  now1[word]+=1\n",
    "now2=dict.fromkeys(uniquewords,0)\n",
    "for word in bow2:\n",
    "  now2[word]+=1"
   ]
  },
  {
   "cell_type": "code",
   "execution_count": 19,
   "metadata": {
    "colab": {
     "base_uri": "https://localhost:8080/"
    },
    "id": "tYoYJCurzEoh",
    "outputId": "dc411771-cb6d-4d18-f5f9-88b5d2ceecae"
   },
   "outputs": [
    {
     "data": {
      "text/plain": [
       "{'rain': 1,\n",
       " 'is': 1,\n",
       " 'the': 0,\n",
       " 'star': 0,\n",
       " 'ice': 0,\n",
       " 'pouring': 1,\n",
       " 'The': 1,\n",
       " 'blinking': 0,\n",
       " 'falling': 0,\n",
       " 'and': 0}"
      ]
     },
     "execution_count": 19,
     "metadata": {},
     "output_type": "execute_result"
    }
   ],
   "source": [
    "now1"
   ]
  },
  {
   "cell_type": "code",
   "execution_count": 20,
   "metadata": {
    "colab": {
     "base_uri": "https://localhost:8080/"
    },
    "id": "xpNGW8jazFoZ",
    "outputId": "3e33b388-ecd0-4134-a4ee-e671ba1a0ca7"
   },
   "outputs": [
    {
     "data": {
      "text/plain": [
       "{'rain': 0,\n",
       " 'is': 2,\n",
       " 'the': 1,\n",
       " 'star': 1,\n",
       " 'ice': 1,\n",
       " 'pouring': 0,\n",
       " 'The': 1,\n",
       " 'blinking': 1,\n",
       " 'falling': 1,\n",
       " 'and': 1}"
      ]
     },
     "execution_count": 20,
     "metadata": {},
     "output_type": "execute_result"
    }
   ],
   "source": [
    "now2"
   ]
  },
  {
   "cell_type": "code",
   "execution_count": 21,
   "metadata": {
    "id": "Xc5bLa65zGup"
   },
   "outputs": [],
   "source": [
    "def computeTF(wordDict,bagOfWords):\n",
    "  tfDict={}\n",
    "  bagOfWordsCount = len(bagOfWords)\n",
    "  for word, count in wordDict.items():\n",
    "    tfDict[word] = count / float(bagOfWordsCount)\n",
    "  return tfDict"
   ]
  },
  {
   "cell_type": "code",
   "execution_count": 22,
   "metadata": {
    "id": "mLI6ctVK0f8T"
   },
   "outputs": [],
   "source": [
    "tf1=computeTF(now1,bow1)\n",
    "tf2=computeTF(now2,bow2)"
   ]
  },
  {
   "cell_type": "code",
   "execution_count": 23,
   "metadata": {
    "colab": {
     "base_uri": "https://localhost:8080/"
    },
    "id": "plgNIIij0u8c",
    "outputId": "65cba6b6-2488-4a15-8cd7-1ed0a81fc609"
   },
   "outputs": [
    {
     "data": {
      "text/plain": [
       "{'rain': 0.25,\n",
       " 'is': 0.25,\n",
       " 'the': 0.0,\n",
       " 'star': 0.0,\n",
       " 'ice': 0.0,\n",
       " 'pouring': 0.25,\n",
       " 'The': 0.25,\n",
       " 'blinking': 0.0,\n",
       " 'falling': 0.0,\n",
       " 'and': 0.0}"
      ]
     },
     "execution_count": 23,
     "metadata": {},
     "output_type": "execute_result"
    }
   ],
   "source": [
    "tf1"
   ]
  },
  {
   "cell_type": "code",
   "execution_count": 24,
   "metadata": {
    "id": "ZBHjDCpD05mI"
   },
   "outputs": [],
   "source": [
    "def computeIDF(documents):\n",
    "  import math\n",
    "  N = len(documents)\n",
    "  idfDict = dict.fromkeys(documents[0].keys(),0)\n",
    "  for document in documents:\n",
    "    for word,val in document.items():\n",
    "      if val>0:\n",
    "        idfDict[word]+=1;\n",
    "\n",
    "  for word,val in idfDict.items():\n",
    "    idfDict[word]=math.log(N/float(val))\n",
    "    #idfDict[word]=N/float(val)\n",
    "  return idfDict\n"
   ]
  },
  {
   "cell_type": "code",
   "execution_count": 25,
   "metadata": {
    "id": "u7DmlTlv19Ml"
   },
   "outputs": [],
   "source": [
    "idfs=computeIDF([now1,now2])"
   ]
  },
  {
   "cell_type": "code",
   "execution_count": 26,
   "metadata": {
    "colab": {
     "base_uri": "https://localhost:8080/"
    },
    "id": "d5RgmeTh2Lpi",
    "outputId": "163b418f-b08e-4eaf-e577-78f010e5c983"
   },
   "outputs": [
    {
     "data": {
      "text/plain": [
       "{'rain': 0.6931471805599453,\n",
       " 'is': 0.0,\n",
       " 'the': 0.6931471805599453,\n",
       " 'star': 0.6931471805599453,\n",
       " 'ice': 0.6931471805599453,\n",
       " 'pouring': 0.6931471805599453,\n",
       " 'The': 0.0,\n",
       " 'blinking': 0.6931471805599453,\n",
       " 'falling': 0.6931471805599453,\n",
       " 'and': 0.6931471805599453}"
      ]
     },
     "execution_count": 26,
     "metadata": {},
     "output_type": "execute_result"
    }
   ],
   "source": [
    "idfs"
   ]
  },
  {
   "cell_type": "code",
   "execution_count": 27,
   "metadata": {
    "id": "hF86FfLP2PoC"
   },
   "outputs": [],
   "source": [
    "def computeTFIDF(tfBagofwords,idfs):\n",
    "  tfidf={}\n",
    "  for word,tf in tfBagofwords.items():\n",
    "    tfidf[word]=tf*idfs[word]\n",
    "  return tfidf"
   ]
  },
  {
   "cell_type": "code",
   "execution_count": 28,
   "metadata": {
    "id": "vb4RYPJB3RVA"
   },
   "outputs": [],
   "source": [
    "import pandas as pd\n",
    "tfidf1=computeTFIDF(tf1,idfs)\n",
    "tfidf2=computeTFIDF(tf2,idfs)\n",
    "df=pd.DataFrame([tfidf1,tfidf2])"
   ]
  },
  {
   "cell_type": "code",
   "execution_count": 29,
   "metadata": {
    "colab": {
     "base_uri": "https://localhost:8080/",
     "height": 112
    },
    "id": "aVnTpmzV3mYF",
    "outputId": "6cd74096-e3c7-4108-f5f8-a1855c343b26"
   },
   "outputs": [
    {
     "data": {
      "text/html": [
       "<div>\n",
       "<style scoped>\n",
       "    .dataframe tbody tr th:only-of-type {\n",
       "        vertical-align: middle;\n",
       "    }\n",
       "\n",
       "    .dataframe tbody tr th {\n",
       "        vertical-align: top;\n",
       "    }\n",
       "\n",
       "    .dataframe thead th {\n",
       "        text-align: right;\n",
       "    }\n",
       "</style>\n",
       "<table border=\"1\" class=\"dataframe\">\n",
       "  <thead>\n",
       "    <tr style=\"text-align: right;\">\n",
       "      <th></th>\n",
       "      <th>rain</th>\n",
       "      <th>is</th>\n",
       "      <th>the</th>\n",
       "      <th>star</th>\n",
       "      <th>ice</th>\n",
       "      <th>pouring</th>\n",
       "      <th>The</th>\n",
       "      <th>blinking</th>\n",
       "      <th>falling</th>\n",
       "      <th>and</th>\n",
       "    </tr>\n",
       "  </thead>\n",
       "  <tbody>\n",
       "    <tr>\n",
       "      <th>0</th>\n",
       "      <td>0.173287</td>\n",
       "      <td>0.0</td>\n",
       "      <td>0.000000</td>\n",
       "      <td>0.000000</td>\n",
       "      <td>0.000000</td>\n",
       "      <td>0.173287</td>\n",
       "      <td>0.0</td>\n",
       "      <td>0.000000</td>\n",
       "      <td>0.000000</td>\n",
       "      <td>0.000000</td>\n",
       "    </tr>\n",
       "    <tr>\n",
       "      <th>1</th>\n",
       "      <td>0.000000</td>\n",
       "      <td>0.0</td>\n",
       "      <td>0.077016</td>\n",
       "      <td>0.077016</td>\n",
       "      <td>0.077016</td>\n",
       "      <td>0.000000</td>\n",
       "      <td>0.0</td>\n",
       "      <td>0.077016</td>\n",
       "      <td>0.077016</td>\n",
       "      <td>0.077016</td>\n",
       "    </tr>\n",
       "  </tbody>\n",
       "</table>\n",
       "</div>"
      ],
      "text/plain": [
       "       rain   is       the      star       ice   pouring  The  blinking  \\\n",
       "0  0.173287  0.0  0.000000  0.000000  0.000000  0.173287  0.0  0.000000   \n",
       "1  0.000000  0.0  0.077016  0.077016  0.077016  0.000000  0.0  0.077016   \n",
       "\n",
       "    falling       and  \n",
       "0  0.000000  0.000000  \n",
       "1  0.077016  0.077016  "
      ]
     },
     "execution_count": 29,
     "metadata": {},
     "output_type": "execute_result"
    }
   ],
   "source": [
    "df"
   ]
  },
  {
   "cell_type": "code",
   "execution_count": null,
   "metadata": {},
   "outputs": [],
   "source": []
  }
 ],
 "metadata": {
  "accelerator": "GPU",
  "colab": {
   "collapsed_sections": [],
   "provenance": []
  },
  "kernelspec": {
   "display_name": "Python 3",
   "language": "python",
   "name": "python3"
  },
  "language_info": {
   "codemirror_mode": {
    "name": "ipython",
    "version": 3
   },
   "file_extension": ".py",
   "mimetype": "text/x-python",
   "name": "python",
   "nbconvert_exporter": "python",
   "pygments_lexer": "ipython3",
   "version": "3.8.5"
  }
 },
 "nbformat": 4,
 "nbformat_minor": 1
}
